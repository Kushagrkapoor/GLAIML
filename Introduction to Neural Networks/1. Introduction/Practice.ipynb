{
 "cells": [
  {
   "cell_type": "code",
   "execution_count": 1,
   "metadata": {},
   "outputs": [],
   "source": [
    "import tensorflow as tf"
   ]
  },
  {
   "cell_type": "code",
   "execution_count": 7,
   "metadata": {},
   "outputs": [],
   "source": [
    "from tensorflow.keras.datasets import mnist\n",
    "(X_train, y_train), (X_test, y_test)=tf.keras.datasets.fashion_mnist.load_data()"
   ]
  },
  {
   "cell_type": "code",
   "execution_count": 8,
   "metadata": {},
   "outputs": [
    {
     "name": "stdout",
     "output_type": "stream",
     "text": [
      "X_train Shape:(60000, 28, 28)\n",
      "y_train Shape:(60000,)\n",
      "X_test Shape:(10000, 28, 28)\n",
      "y_test Shape:(10000,)\n"
     ]
    }
   ],
   "source": [
    "print('X_train Shape:{}'.format(X_train.shape))\n",
    "print('y_train Shape:{}'.format(y_train.shape))\n",
    "print('X_test Shape:{}'.format(X_test.shape))\n",
    "print('y_test Shape:{}'.format(y_test.shape))"
   ]
  },
  {
   "cell_type": "code",
   "execution_count": null,
   "metadata": {},
   "outputs": [],
   "source": []
  },
  {
   "cell_type": "code",
   "execution_count": 9,
   "metadata": {},
   "outputs": [],
   "source": [
    "y_train=tf.keras.utils.to_categorical(y_train)\n",
    "y_test=tf.keras.utils.to_categorical(y_test)"
   ]
  },
  {
   "cell_type": "code",
   "execution_count": 10,
   "metadata": {},
   "outputs": [
    {
     "name": "stdout",
     "output_type": "stream",
     "text": [
      "Train on 60000 samples, validate on 10000 samples\n",
      "Epoch 1/10\n",
      "60000/60000 [==============================] - 5s 85us/sample - loss: 1.9425 - accuracy: 0.3433 - val_loss: 1.4978 - val_accuracy: 0.5839\n",
      "Epoch 2/10\n",
      "60000/60000 [==============================] - 5s 81us/sample - loss: 1.1998 - accuracy: 0.5871 - val_loss: 0.9841 - val_accuracy: 0.6463\n",
      "Epoch 3/10\n",
      "60000/60000 [==============================] - 5s 81us/sample - loss: 0.8756 - accuracy: 0.7087 - val_loss: 0.7539 - val_accuracy: 0.7634\n",
      "Epoch 4/10\n",
      "60000/60000 [==============================] - 4s 68us/sample - loss: 0.6928 - accuracy: 0.7768 - val_loss: 0.6246 - val_accuracy: 0.7980\n",
      "Epoch 5/10\n",
      "60000/60000 [==============================] - 4s 68us/sample - loss: 0.5916 - accuracy: 0.8041 - val_loss: 0.5516 - val_accuracy: 0.8151\n",
      "Epoch 6/10\n",
      "60000/60000 [==============================] - 4s 67us/sample - loss: 0.5351 - accuracy: 0.8191 - val_loss: 0.5097 - val_accuracy: 0.8297\n",
      "Epoch 7/10\n",
      "60000/60000 [==============================] - 4s 73us/sample - loss: 0.4983 - accuracy: 0.8317 - val_loss: 0.4832 - val_accuracy: 0.8364\n",
      "Epoch 8/10\n",
      "60000/60000 [==============================] - 5s 75us/sample - loss: 0.4713 - accuracy: 0.8388 - val_loss: 0.4608 - val_accuracy: 0.8425\n",
      "Epoch 9/10\n",
      "60000/60000 [==============================] - 5s 86us/sample - loss: 0.4519 - accuracy: 0.8457 - val_loss: 0.4464 - val_accuracy: 0.8451\n",
      "Epoch 10/10\n",
      "60000/60000 [==============================] - 5s 77us/sample - loss: 0.4334 - accuracy: 0.8507 - val_loss: 0.4359 - val_accuracy: 0.8486\n"
     ]
    },
    {
     "data": {
      "text/plain": [
       "<tensorflow.python.keras.callbacks.History at 0x20e0e5afb08>"
      ]
     },
     "execution_count": 10,
     "metadata": {},
     "output_type": "execute_result"
    }
   ],
   "source": [
    "from tensorflow.keras.layers import Dense, Flatten,BatchNormalization\n",
    "model=tf.keras.models.Sequential()\n",
    "model.add(tf.keras.layers.Reshape((784,),input_shape=(28,28,)))\n",
    "model.add(BatchNormalization())\n",
    "model.add(Dense(100,activation='sigmoid'))\n",
    "model.add(Dense(100,activation='sigmoid'))\n",
    "model.add(Dense(10,activation='sigmoid'))\n",
    "model.add(Dense(10,activation='softmax'))\n",
    "SGD_optimizer=tf.keras.optimizers.SGD(learning_rate=0.03)\n",
    "model.compile(optimizer=SGD_optimizer,loss='categorical_crossentropy',metrics=[\"accuracy\"])\n",
    "model.fit(x=X_train, y=y_train,batch_size=32,epochs=10,validation_data=(X_test,y_test))"
   ]
  },
  {
   "cell_type": "code",
   "execution_count": 12,
   "metadata": {},
   "outputs": [
    {
     "ename": "SyntaxError",
     "evalue": "invalid character in identifier (<ipython-input-12-497a1fd53348>, line 3)",
     "output_type": "error",
     "traceback": [
      "\u001b[1;36m  File \u001b[1;32m\"<ipython-input-12-497a1fd53348>\"\u001b[1;36m, line \u001b[1;32m3\u001b[0m\n\u001b[1;33m    ann_viz(model, view=True, filename=”network.gv”, title=”MyNeural Network”)\u001b[0m\n\u001b[1;37m                                              ^\u001b[0m\n\u001b[1;31mSyntaxError\u001b[0m\u001b[1;31m:\u001b[0m invalid character in identifier\n"
     ]
    }
   ],
   "source": [
    "from ann_visualizer.visualize import ann_viz;\n",
    "\n",
    "ann_viz(model, view=True, filename=\"network.gv”, title=\"MyNeural Network”)"
   ]
  },
  {
   "cell_type": "code",
   "execution_count": null,
   "metadata": {},
   "outputs": [],
   "source": []
  }
 ],
 "metadata": {
  "kernelspec": {
   "display_name": "Python 3",
   "language": "python",
   "name": "python3"
  },
  "language_info": {
   "codemirror_mode": {
    "name": "ipython",
    "version": 3
   },
   "file_extension": ".py",
   "mimetype": "text/x-python",
   "name": "python",
   "nbconvert_exporter": "python",
   "pygments_lexer": "ipython3",
   "version": "3.7.9"
  }
 },
 "nbformat": 4,
 "nbformat_minor": 4
}

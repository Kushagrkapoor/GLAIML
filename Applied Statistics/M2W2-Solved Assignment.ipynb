{
 "cells": [
  {
   "cell_type": "markdown",
   "metadata": {},
   "source": [
    "# 1.You flip a fair coin 10 times. What is the probability of getting 8 or more heads? "
   ]
  },
  {
   "cell_type": "code",
   "execution_count": 2,
   "metadata": {},
   "outputs": [
    {
     "name": "stdout",
     "output_type": "stream",
     "text": [
      "0.0546875\n"
     ]
    }
   ],
   "source": [
    "import numpy as np\n",
    "import scipy.stats as stats\n",
    "import matplotlib.pyplot as plt\n",
    "n=10\n",
    "p=0.5\n",
    "k=np.arange(0,11)\n",
    "binomial=stats.binom.pmf(k,n,p)\n",
    "print(binomial[8]+binomial[9]+binomial[10])"
   ]
  },
  {
   "cell_type": "markdown",
   "metadata": {},
   "source": [
    "# 2. The probability that you will win a certain game is 0.3. You play the game 20 times. What is the mean of this binomial distribution?\n"
   ]
  },
  {
   "cell_type": "code",
   "execution_count": 51,
   "metadata": {},
   "outputs": [
    {
     "name": "stdout",
     "output_type": "stream",
     "text": [
      "Mean=6.0\n"
     ]
    }
   ],
   "source": [
    "n2=20\n",
    "p2=0.3\n",
    "print('Mean={}'.format(n2*p2))"
   ]
  },
  {
   "cell_type": "markdown",
   "metadata": {},
   "source": [
    "# 3. An automatic camera records the number of cars running a red light at an intersection (that is, the cars were going through when the red light was against the car). Analysis of the data shows that on average 15% of light changes record a car running a red light. Assume that the data has a binomial distribution. What is theprobability that in 20 light changes there will be exactly three (3) cars running a red light?"
   ]
  },
  {
   "cell_type": "code",
   "execution_count": 7,
   "metadata": {},
   "outputs": [
    {
     "data": {
      "text/plain": [
       "0.24282889614926725"
      ]
     },
     "execution_count": 7,
     "metadata": {},
     "output_type": "execute_result"
    }
   ],
   "source": [
    "n3=20\n",
    "p3=0.15\n",
    "k3=np.arange(0,20)\n",
    "binomial3=stats.binom.pmf(k3,n3,p3)\n",
    "binomial3[3]"
   ]
  },
  {
   "cell_type": "markdown",
   "metadata": {},
   "source": [
    "# 4. There are 15 sets of traffic lights on the journey.The probability that a driver must stop at any one traffic light coming to alliance University is 0.3  \n",
    "\n",
    "a) What is the probability that a student must stop at exactly 2 of the 15 sets oftraffic lights? \n",
    "\n",
    "b) What is the probability that a student will be stopped at 1 or more of the 15sets of traffic lights? "
   ]
  },
  {
   "cell_type": "code",
   "execution_count": 52,
   "metadata": {},
   "outputs": [
    {
     "name": "stdout",
     "output_type": "stream",
     "text": [
      "Answer of a=0.0915601148346156\n",
      "\n",
      "Answer of b=0.995252438490057\n"
     ]
    }
   ],
   "source": [
    "n4=15\n",
    "p4=0.3\n",
    "k4=np.arange(0,15)\n",
    "binomial4=stats.binom.pmf(k4,n4,p4)\n",
    "print('Answer of a={}'.format(binomial4[2]))\n",
    "ans=1-binomial4[0]\n",
    "print('')\n",
    "print('Answer of b={}'.format(ans))"
   ]
  },
  {
   "cell_type": "markdown",
   "metadata": {},
   "source": [
    "# 5. What is the area under the curve of a probability distribution? Explain."
   ]
  },
  {
   "cell_type": "code",
   "execution_count": 11,
   "metadata": {},
   "outputs": [
    {
     "name": "stdout",
     "output_type": "stream",
     "text": [
      "Area under the curve of a probability distribution is 1. This is so because sum of probabilities of all the outcomes is equal to 1.\n"
     ]
    }
   ],
   "source": [
    "print('Area under the curve of a probability distribution is 1. This is so because sum of probabilities of all the outcomes is equal to 1.')"
   ]
  },
  {
   "cell_type": "markdown",
   "metadata": {},
   "source": [
    "# 6. My Bank has a large Credit Card portfolio. Based on empirical data, they have found that 60% of the customers pay their bill on time. If a sample of 10 accounts is selected from the current database, construct the Probability Distribution of accounts paying on time.\n",
    "Hint: Make use of Function used in Excel or R"
   ]
  },
  {
   "cell_type": "code",
   "execution_count": 13,
   "metadata": {},
   "outputs": [
    {
     "data": {
      "text/plain": [
       "Text(0, 0.5, 'Probability of Number of Accounts')"
      ]
     },
     "execution_count": 13,
     "metadata": {},
     "output_type": "execute_result"
    },
    {
     "data": {
      "image/png": "[encoded data removed]",
      "text/plain": [
       "<Figure size 432x288 with 1 Axes>"
      ]
     },
     "metadata": {
      "needs_background": "light"
     },
     "output_type": "display_data"
    }
   ],
   "source": [
    "n6=10\n",
    "p6=0.6\n",
    "k6=np.arange(0,11)\n",
    "binomial6=stats.binom.pmf(k6,n6,p6)\n",
    "plt.plot(k6,binomial6,'o-')\n",
    "plt.title('Binomial:n=%i,p=%.2f'%(n6,p6),fontsize=15)\n",
    "plt.xlabel('Number of Accounts')\n",
    "plt.ylabel('Probability of Number of Accounts')\n"
   ]
  },
  {
   "cell_type": "markdown",
   "metadata": {},
   "source": [
    "# 7. If the likelihood of a tagged order form is 0.1, What is the probability that there are three tagged order forms in the sample of four?\n",
    "Hint: Use Binomial distribution equation"
   ]
  },
  {
   "cell_type": "code",
   "execution_count": 19,
   "metadata": {},
   "outputs": [
    {
     "data": {
      "text/plain": [
       "0.003600000000000003"
      ]
     },
     "execution_count": 19,
     "metadata": {},
     "output_type": "execute_result"
    }
   ],
   "source": [
    "n7=4\n",
    "p7=0.1\n",
    "k7=np.arange(0,5)\n",
    "binomial7=stats.binom.pmf(k7,n7,p7)\n",
    "binomial7[3]"
   ]
  },
  {
   "cell_type": "markdown",
   "metadata": {},
   "source": [
    "# 8. Determine the following:\n",
    "\n",
    "a) For n = 4 and p = 0.12, what is P(X = 0)?\n",
    "\n",
    "b) For n = 6 and p = 0.83, what is P(X = 5)?"
   ]
  },
  {
   "cell_type": "code",
   "execution_count": 20,
   "metadata": {},
   "outputs": [
    {
     "name": "stdout",
     "output_type": "stream",
     "text": [
      "0.59969536\n",
      "0.4017821455860002\n"
     ]
    }
   ],
   "source": [
    "n8=4\n",
    "p8=0.12\n",
    "k8=np.arange(0,5)\n",
    "binomial8=stats.binom.pmf(k8,n8,p8)\n",
    "print(binomial8[0])\n",
    "n81=6\n",
    "p81=0.83\n",
    "k81=np.arange(0,7)\n",
    "binomial81=stats.binom.pmf(k81,n81,p81)\n",
    "print(binomial81[5])\n"
   ]
  },
  {
   "cell_type": "markdown",
   "metadata": {},
   "source": [
    "# 9.Determine the mean and standard deviation of the variable X in each of the following binomial distributions:\n",
    "\n",
    "a) n = 4 and p = 0.10\n",
    "\n",
    "b) n = 5 and p = 0.80"
   ]
  },
  {
   "cell_type": "code",
   "execution_count": 60,
   "metadata": {},
   "outputs": [
    {
     "name": "stdout",
     "output_type": "stream",
     "text": [
      "The mean is 0.4\n",
      "The Standard Deviation is 0.6000000000000001\n",
      "The mean is 4.0\n",
      "The Standard Deviation is 0.8944271909999157\n"
     ]
    }
   ],
   "source": [
    "n9=4\n",
    "p9=0.10\n",
    "k9=np.arange(0,5)\n",
    "binomial9=stats.binom.pmf(k9,n9,p9)\n",
    "print('The mean is {}\\nThe Standard Deviation is {}'.format(n9*p9,np.sqrt(n9*p9*(1-p9))))\n",
    "n91=5\n",
    "p91=0.80\n",
    "k91=np.arange(0,6)\n",
    "binomial91=stats.binom.pmf(k91,n91,p91)\n",
    "print('The mean is {}\\nThe Standard Deviation is {}'.format(n91*p91,np.sqrt(n91*p91*(1-p91))))\n"
   ]
  },
  {
   "cell_type": "markdown",
   "metadata": {},
   "source": [
    "# 10. Assume a poisson distribution with lambda = 5.0. What is the probability that\n",
    "a) X <= 1?\n",
    "\n",
    "b) X > 1?"
   ]
  },
  {
   "cell_type": "code",
   "execution_count": 31,
   "metadata": {},
   "outputs": [
    {
     "name": "stdout",
     "output_type": "stream",
     "text": [
      "The Probability for X<=1 is:0.040427681994512805\n",
      "The Probability for X>1 is:0.9595723180054871\n"
     ]
    }
   ],
   "source": [
    "rate=5\n",
    "n10=np.arange(0,6)\n",
    "poisson10=stats.poisson.pmf(n10,rate)\n",
    "A=poisson10[0]+poisson10[1]\n",
    "B=1-A\n",
    "print('The Probability for X<=1 is:{}\\nThe Probability for X>1 is:{}'.format(A,B))"
   ]
  },
  {
   "cell_type": "markdown",
   "metadata": {},
   "source": [
    "# 11. The number of work related injuries per month in a manufacturing plant is known to follow a Poisson distribution, with a mean of 2.5 work-related injuries a month.\n",
    "\n",
    "a) What is the probability that in a given month, no work-related injuries occur?\n",
    "\n",
    "b) That at least one work- related injury occurs?\n",
    "\n",
    "Hint: Use Poisson distribution equation, find X = 0, Given lambda = 2.5"
   ]
  },
  {
   "cell_type": "code",
   "execution_count": 32,
   "metadata": {},
   "outputs": [
    {
     "name": "stdout",
     "output_type": "stream",
     "text": [
      "Probability of no injury:0.0820849986238988\n",
      "Probability of at least 1 injury:0.9179150013761012\n"
     ]
    }
   ],
   "source": [
    "rate11=2.5\n",
    "n11=np.arange(0,26)\n",
    "poisson11=stats.poisson.pmf(n11,rate11)\n",
    "A=poisson11[0]\n",
    "B=1-A\n",
    "print('Probability of no injury:{}\\nProbability of at least 1 injury:{}'.format(A,B))\n"
   ]
  },
  {
   "cell_type": "markdown",
   "metadata": {},
   "source": [
    "# 12. A 5-litre bucket of water is taken from a swamp. The water contains 75 mosquito larvae. A 200mL flask of water is taken form the bucket for further analysis. What is\n",
    "\n",
    "a) the expected number of larvae in the flask?\n",
    "\n",
    "b) the probability that the flask contains at least one mosquito lava?"
   ]
  },
  {
   "cell_type": "code",
   "execution_count": 63,
   "metadata": {},
   "outputs": [
    {
     "name": "stdout",
     "output_type": "stream",
     "text": [
      "66.66666666666667\n",
      "Answer of a:3.0\n",
      "The answer to b):0.950212931632136\n"
     ]
    }
   ],
   "source": [
    "rate=5000/75\n",
    "n12=np.arange(0,76)\n",
    "\n",
    "print(rate)\n",
    "print('Answer of a:{}'.format(200/rate))\n",
    "rate12=3\n",
    "n12=np.arange(0,31)\n",
    "poisson12=stats.poisson.pmf(n12,rate12)\n",
    "print('The answer to b):{}'.format(1-poisson12[0]))"
   ]
  },
  {
   "cell_type": "markdown",
   "metadata": {},
   "source": [
    "# 13. Why the need of Standardization? Why do we us Z instead of “the Number of Standard Deviations”?"
   ]
  },
  {
   "cell_type": "code",
   "execution_count": null,
   "metadata": {},
   "outputs": [],
   "source": [
    "We use Standardization to make the data unitless/dimensionless."
   ]
  },
  {
   "cell_type": "markdown",
   "metadata": {},
   "source": [
    "# 14. A radar unit is used to measure speeds of cars on a Mumbai – Pune Highway. The speeds are normally distributed with a mean of 70 km/hr and a standard deviation of 10 km/hr.\n",
    "\n",
    "a)What is the probability that a car picked at random is travelling at more than 100 km/hr?\n",
    "\n",
    "b)What is the probability that the car speed is between 80 Km / hr and 100 Km / hr\n",
    "\n",
    "Hint: You can make use of Excel"
   ]
  },
  {
   "cell_type": "code",
   "execution_count": 42,
   "metadata": {},
   "outputs": [
    {
     "name": "stdout",
     "output_type": "stream",
     "text": [
      "Answer of a:0.0013498980316301035\n",
      "Answer of b:0.15730535589982697\n"
     ]
    }
   ],
   "source": [
    "z14=(100-70)/10\n",
    "norm14=stats.norm.cdf(z14)\n",
    "print('Answer of a:{}'.format(1-norm14))\n",
    "A14=stats.norm.cdf(100,loc=70,scale=10)-stats.norm.cdf(80,loc=70,scale=10)\n",
    "print('Answer of b:{}'.format(A14))"
   ]
  },
  {
   "cell_type": "markdown",
   "metadata": {},
   "source": [
    "# 15. The percentage of orders filled correctly at Wendy's was approximately 86.8%. Suppose that you go to drive-through window at Wendy's and place an order. Two friends of yours independently place orders at the drive-through window at the same Wendy's.\n",
    "\n",
    "What are the probabilities that\n",
    "\n",
    "a) all three filled correctly?\n",
    "\n",
    "b) none of the three filled correctly?\n",
    "\n",
    "c) atleast two of the three orders will be filled correctly?\n",
    "\n",
    "d) what is the mean and standard deviation of the orders filled correctly?"
   ]
  },
  {
   "cell_type": "code",
   "execution_count": 65,
   "metadata": {},
   "outputs": [
    {
     "name": "stdout",
     "output_type": "stream",
     "text": [
      "Answer of a):0.653972032\n",
      "Answer of b):0.002299968\n",
      "Answer of c):0.9523279359999999\n",
      "Answer of d):Mean=2.604\n",
      "\t    Standard Deviation=0.5862832080146932\n"
     ]
    },
    {
     "data": {
      "text/plain": [
       "Text(0, 0.5, 'Probability of Number of Orders Filled Correctly')"
      ]
     },
     "execution_count": 65,
     "metadata": {},
     "output_type": "execute_result"
    },
    {
     "data": {
      "image/png": "[encoded data removed]",
      "text/plain": [
       "<Figure size 432x288 with 1 Axes>"
      ]
     },
     "metadata": {
      "needs_background": "light"
     },
     "output_type": "display_data"
    }
   ],
   "source": [
    "p15=0.868\n",
    "n15=3\n",
    "k15=np.arange(0,4)\n",
    "binomial15=stats.binom.pmf(k15,n15,p15)\n",
    "a15=binomial15[3]\n",
    "b15=binomial15[0]\n",
    "c15=binomial15[2]+binomial15[3]\n",
    "print('Answer of a):{}'.format(a15))\n",
    "print('Answer of b):{}'.format(b15))\n",
    "print('Answer of c):{}'.format(c15))\n",
    "print('Answer of d):Mean={}\\n\\t    Standard Deviation={}'.format(p15*n15,np.sqrt(p15*n15*(1-p15))))\n",
    "plt.plot(k15,binomial15,'o-')\n",
    "plt.title('Binomial')\n",
    "plt.xlabel('Number of Orders Filled Correctly')\n",
    "plt.ylabel('Probability of Number of Orders Filled Correctly')"
   ]
  },
  {
   "cell_type": "code",
   "execution_count": null,
   "metadata": {},
   "outputs": [],
   "source": []
  }
 ],
 "metadata": {
  "kernelspec": {
   "display_name": "Python 3",
   "language": "python",
   "name": "python3"
  },
  "language_info": {
   "codemirror_mode": {
    "name": "ipython",
    "version": 3
   },
   "file_extension": ".py",
   "mimetype": "text/x-python",
   "name": "python",
   "nbconvert_exporter": "python",
   "pygments_lexer": "ipython3",
   "version": "3.7.3"
  }
 },
 "nbformat": 4,
 "nbformat_minor": 2
}
